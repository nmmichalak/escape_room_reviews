{
 "cells": [
  {
   "cell_type": "markdown",
   "metadata": {},
   "source": [
    "# Import libraries"
   ]
  },
  {
   "cell_type": "code",
   "execution_count": 325,
   "metadata": {},
   "outputs": [],
   "source": [
    "# uncomment to install libraries\n",
    "# ! pip install numpy pandas matplotlib seaborn nltk sklearn regex\n",
    "# ! python -m spacy download en_core_web_sm\n",
    "# nltk.download(\"stopwords\")\n",
    "\n",
    "import numpy as np\n",
    "import pandas as pd\n",
    "import matplotlib.pyplot as plt\n",
    "import seaborn as sns\n",
    "import nltk\n",
    "import sklearn\n",
    "import re\n",
    "\n",
    "# English stop words\n",
    "english_stop_words = nltk.corpus.stopwords.words(\"english\")"
   ]
  },
  {
   "cell_type": "markdown",
   "metadata": {},
   "source": [
    "# Define functions"
   ]
  },
  {
   "cell_type": "markdown",
   "metadata": {},
   "source": [
    "## Text processing\n",
    "* Special characters\n",
    "* Lower case\n",
    "* White space\n",
    "* Tokenize with WordPunctTokenizer\n",
    "* Remove English stop words\n",
    "Source: [Traditional Methods for Text Data by Dipanjan (DJ) Sarkar\n",
    "](https://towardsdatascience.com/understanding-feature-engineering-part-3-traditional-methods-for-text-data-f6f7d70acd41)"
   ]
  },
  {
   "cell_type": "code",
   "execution_count": 326,
   "metadata": {},
   "outputs": [],
   "source": [
    "# process a single document's text\n",
    "def process_document(document):\n",
    "    # remove special characters\n",
    "    document_processed = re.sub(pattern = \"[^a-zA-Z0-9_\\s]\", repl = \"\", string = document, flags = re.IGNORECASE|re.ASCII)\n",
    "    \n",
    "    # lower case\n",
    "    document_processed = document_processed.lower()\n",
    "    \n",
    "    # remove white space\n",
    "    document_processed = document_processed.strip()\n",
    "    \n",
    "    # tokenize document\n",
    "    tokens = nltk.WordPunctTokenizer().tokenize(document_processed)\n",
    "    \n",
    "    # filter stopwords out of document\n",
    "    tokens_no_stop_words = [token for token in tokens if token not in english_stop_words]\n",
    "    \n",
    "    # re-create document from filtered tokens and return\n",
    "    return \" \".join(tokens_no_stop_words)\n",
    "\n",
    "# vectorize process_document for processing entire corpus of documents\n",
    "process_corpus = np.vectorize(process_document)"
   ]
  },
  {
   "cell_type": "markdown",
   "metadata": {},
   "source": [
    "# Review data"
   ]
  },
  {
   "cell_type": "code",
   "execution_count": 327,
   "metadata": {},
   "outputs": [
    {
     "data": {
      "text/html": [
       "<div>\n",
       "<style scoped>\n",
       "    .dataframe tbody tr th:only-of-type {\n",
       "        vertical-align: middle;\n",
       "    }\n",
       "\n",
       "    .dataframe tbody tr th {\n",
       "        vertical-align: top;\n",
       "    }\n",
       "\n",
       "    .dataframe thead th {\n",
       "        text-align: right;\n",
       "    }\n",
       "</style>\n",
       "<table border=\"1\" class=\"dataframe\">\n",
       "  <thead>\n",
       "    <tr style=\"text-align: right;\">\n",
       "      <th></th>\n",
       "      <th>state</th>\n",
       "      <th>city_href</th>\n",
       "      <th>room_href</th>\n",
       "      <th>review_number</th>\n",
       "      <th>review</th>\n",
       "      <th>room_title</th>\n",
       "      <th>room_description</th>\n",
       "      <th>room_address</th>\n",
       "    </tr>\n",
       "  </thead>\n",
       "  <tbody>\n",
       "    <tr>\n",
       "      <th>0</th>\n",
       "      <td>california</td>\n",
       "      <td>/bakersfield</td>\n",
       "      <td>/bakersfield/quests/Bakersfield-Escape-Room-RE...</td>\n",
       "      <td>0</td>\n",
       "      <td>We loved it... it was hard but we finished wit...</td>\n",
       "      <td>Escape room \"R.E.S.C.U.E.\" by Bakersfield Esca...</td>\n",
       "      <td>Description:A young girl has gone missing and ...</td>\n",
       "      <td>3616 Coffee Rd, Suite C Bakersfield, CA 93308 ...</td>\n",
       "    </tr>\n",
       "    <tr>\n",
       "      <th>1</th>\n",
       "      <td>california</td>\n",
       "      <td>/bakersfield</td>\n",
       "      <td>/bakersfield/quests/Bakersfield-Escape-Room-RE...</td>\n",
       "      <td>1</td>\n",
       "      <td>My friends and I (4 total) went for one of our...</td>\n",
       "      <td>Escape room \"R.E.S.C.U.E.\" by Bakersfield Esca...</td>\n",
       "      <td>Description:A young girl has gone missing and ...</td>\n",
       "      <td>3616 Coffee Rd, Suite C Bakersfield, CA 93308 ...</td>\n",
       "    </tr>\n",
       "    <tr>\n",
       "      <th>2</th>\n",
       "      <td>california</td>\n",
       "      <td>/bakersfield</td>\n",
       "      <td>/bakersfield/quests/Bakersfield-Escape-Room-RE...</td>\n",
       "      <td>2</td>\n",
       "      <td>The challenge was awesome. Looking forward to ...</td>\n",
       "      <td>Escape room \"R.E.S.C.U.E.\" by Bakersfield Esca...</td>\n",
       "      <td>Description:A young girl has gone missing and ...</td>\n",
       "      <td>3616 Coffee Rd, Suite C Bakersfield, CA 93308 ...</td>\n",
       "    </tr>\n",
       "    <tr>\n",
       "      <th>3</th>\n",
       "      <td>california</td>\n",
       "      <td>/bakersfield</td>\n",
       "      <td>/bakersfield/quests/Bakersfield-Escape-Room-RE...</td>\n",
       "      <td>3</td>\n",
       "      <td>We had a wonderful night. So close 5 more minu...</td>\n",
       "      <td>Escape room \"R.E.S.C.U.E.\" by Bakersfield Esca...</td>\n",
       "      <td>Description:A young girl has gone missing and ...</td>\n",
       "      <td>3616 Coffee Rd, Suite C Bakersfield, CA 93308 ...</td>\n",
       "    </tr>\n",
       "    <tr>\n",
       "      <th>4</th>\n",
       "      <td>california</td>\n",
       "      <td>/bakersfield</td>\n",
       "      <td>/bakersfield/quests/Bakersfield-Escape-Room-RE...</td>\n",
       "      <td>4</td>\n",
       "      <td>We had an absolute blast. We did RESCUE which ...</td>\n",
       "      <td>Escape room \"R.E.S.C.U.E.\" by Bakersfield Esca...</td>\n",
       "      <td>Description:A young girl has gone missing and ...</td>\n",
       "      <td>3616 Coffee Rd, Suite C Bakersfield, CA 93308 ...</td>\n",
       "    </tr>\n",
       "    <tr>\n",
       "      <th>...</th>\n",
       "      <td>...</td>\n",
       "      <td>...</td>\n",
       "      <td>...</td>\n",
       "      <td>...</td>\n",
       "      <td>...</td>\n",
       "      <td>...</td>\n",
       "      <td>...</td>\n",
       "      <td>...</td>\n",
       "    </tr>\n",
       "    <tr>\n",
       "      <th>4134</th>\n",
       "      <td>colorado</td>\n",
       "      <td>/steamboat-springs</td>\n",
       "      <td>/steamboat-springs/quests/the-crooked-key-flas...</td>\n",
       "      <td>2</td>\n",
       "      <td>We did the flashover! game and it was the best...</td>\n",
       "      <td>NaN</td>\n",
       "      <td>NaN</td>\n",
       "      <td>NaN</td>\n",
       "    </tr>\n",
       "    <tr>\n",
       "      <th>4135</th>\n",
       "      <td>colorado</td>\n",
       "      <td>/steamboat-springs</td>\n",
       "      <td>/steamboat-springs/quests/the-crooked-key-flas...</td>\n",
       "      <td>3</td>\n",
       "      <td>Had a great time in the fire rescue themed roo...</td>\n",
       "      <td>NaN</td>\n",
       "      <td>NaN</td>\n",
       "      <td>NaN</td>\n",
       "    </tr>\n",
       "    <tr>\n",
       "      <th>4136</th>\n",
       "      <td>colorado</td>\n",
       "      <td>/steamboat-springs</td>\n",
       "      <td>/steamboat-springs/quests/the-crooked-key-flas...</td>\n",
       "      <td>4</td>\n",
       "      <td>Our group did the Flashover game - for most of...</td>\n",
       "      <td>NaN</td>\n",
       "      <td>NaN</td>\n",
       "      <td>NaN</td>\n",
       "    </tr>\n",
       "    <tr>\n",
       "      <th>4137</th>\n",
       "      <td>colorado</td>\n",
       "      <td>/steamboat-springs</td>\n",
       "      <td>/steamboat-springs/quests/the-crooked-key-flas...</td>\n",
       "      <td>5</td>\n",
       "      <td>We had the absolute best tome! We booked quite...</td>\n",
       "      <td>NaN</td>\n",
       "      <td>NaN</td>\n",
       "      <td>NaN</td>\n",
       "    </tr>\n",
       "    <tr>\n",
       "      <th>4138</th>\n",
       "      <td>colorado</td>\n",
       "      <td>/steamboat-springs</td>\n",
       "      <td>/steamboat-springs/quests/the-crooked-key-taph...</td>\n",
       "      <td>0</td>\n",
       "      <td>None</td>\n",
       "      <td>NaN</td>\n",
       "      <td>NaN</td>\n",
       "      <td>NaN</td>\n",
       "    </tr>\n",
       "  </tbody>\n",
       "</table>\n",
       "<p>4139 rows × 8 columns</p>\n",
       "</div>"
      ],
      "text/plain": [
       "           state           city_href  \\\n",
       "0     california        /bakersfield   \n",
       "1     california        /bakersfield   \n",
       "2     california        /bakersfield   \n",
       "3     california        /bakersfield   \n",
       "4     california        /bakersfield   \n",
       "...          ...                 ...   \n",
       "4134    colorado  /steamboat-springs   \n",
       "4135    colorado  /steamboat-springs   \n",
       "4136    colorado  /steamboat-springs   \n",
       "4137    colorado  /steamboat-springs   \n",
       "4138    colorado  /steamboat-springs   \n",
       "\n",
       "                                              room_href  review_number  \\\n",
       "0     /bakersfield/quests/Bakersfield-Escape-Room-RE...              0   \n",
       "1     /bakersfield/quests/Bakersfield-Escape-Room-RE...              1   \n",
       "2     /bakersfield/quests/Bakersfield-Escape-Room-RE...              2   \n",
       "3     /bakersfield/quests/Bakersfield-Escape-Room-RE...              3   \n",
       "4     /bakersfield/quests/Bakersfield-Escape-Room-RE...              4   \n",
       "...                                                 ...            ...   \n",
       "4134  /steamboat-springs/quests/the-crooked-key-flas...              2   \n",
       "4135  /steamboat-springs/quests/the-crooked-key-flas...              3   \n",
       "4136  /steamboat-springs/quests/the-crooked-key-flas...              4   \n",
       "4137  /steamboat-springs/quests/the-crooked-key-flas...              5   \n",
       "4138  /steamboat-springs/quests/the-crooked-key-taph...              0   \n",
       "\n",
       "                                                 review  \\\n",
       "0     We loved it... it was hard but we finished wit...   \n",
       "1     My friends and I (4 total) went for one of our...   \n",
       "2     The challenge was awesome. Looking forward to ...   \n",
       "3     We had a wonderful night. So close 5 more minu...   \n",
       "4     We had an absolute blast. We did RESCUE which ...   \n",
       "...                                                 ...   \n",
       "4134  We did the flashover! game and it was the best...   \n",
       "4135  Had a great time in the fire rescue themed roo...   \n",
       "4136  Our group did the Flashover game - for most of...   \n",
       "4137  We had the absolute best tome! We booked quite...   \n",
       "4138                                               None   \n",
       "\n",
       "                                             room_title  \\\n",
       "0     Escape room \"R.E.S.C.U.E.\" by Bakersfield Esca...   \n",
       "1     Escape room \"R.E.S.C.U.E.\" by Bakersfield Esca...   \n",
       "2     Escape room \"R.E.S.C.U.E.\" by Bakersfield Esca...   \n",
       "3     Escape room \"R.E.S.C.U.E.\" by Bakersfield Esca...   \n",
       "4     Escape room \"R.E.S.C.U.E.\" by Bakersfield Esca...   \n",
       "...                                                 ...   \n",
       "4134                                                NaN   \n",
       "4135                                                NaN   \n",
       "4136                                                NaN   \n",
       "4137                                                NaN   \n",
       "4138                                                NaN   \n",
       "\n",
       "                                       room_description  \\\n",
       "0     Description:A young girl has gone missing and ...   \n",
       "1     Description:A young girl has gone missing and ...   \n",
       "2     Description:A young girl has gone missing and ...   \n",
       "3     Description:A young girl has gone missing and ...   \n",
       "4     Description:A young girl has gone missing and ...   \n",
       "...                                                 ...   \n",
       "4134                                                NaN   \n",
       "4135                                                NaN   \n",
       "4136                                                NaN   \n",
       "4137                                                NaN   \n",
       "4138                                                NaN   \n",
       "\n",
       "                                           room_address  \n",
       "0     3616 Coffee Rd, Suite C Bakersfield, CA 93308 ...  \n",
       "1     3616 Coffee Rd, Suite C Bakersfield, CA 93308 ...  \n",
       "2     3616 Coffee Rd, Suite C Bakersfield, CA 93308 ...  \n",
       "3     3616 Coffee Rd, Suite C Bakersfield, CA 93308 ...  \n",
       "4     3616 Coffee Rd, Suite C Bakersfield, CA 93308 ...  \n",
       "...                                                 ...  \n",
       "4134                                                NaN  \n",
       "4135                                                NaN  \n",
       "4136                                                NaN  \n",
       "4137                                                NaN  \n",
       "4138                                                NaN  \n",
       "\n",
       "[4139 rows x 8 columns]"
      ]
     },
     "execution_count": 327,
     "metadata": {},
     "output_type": "execute_result"
    }
   ],
   "source": [
    "escape_room_reviews = pd.read_csv(\"data/escape_room_reviews.csv\", index_col = 0)\n",
    "\n",
    "# See it (random 5 rows)\n",
    "escape_room_reviews"
   ]
  },
  {
   "cell_type": "markdown",
   "metadata": {},
   "source": [
    "# Review processing"
   ]
  },
  {
   "cell_type": "markdown",
   "metadata": {},
   "source": [
    "## Extract reviews"
   ]
  },
  {
   "cell_type": "markdown",
   "metadata": {},
   "source": [
    "## Process corpus of reviews"
   ]
  },
  {
   "cell_type": "markdown",
   "metadata": {},
   "source": [
    "### Example process"
   ]
  },
  {
   "cell_type": "code",
   "execution_count": 335,
   "metadata": {},
   "outputs": [
    {
     "data": {
      "text/html": [
       "<div>\n",
       "<style scoped>\n",
       "    .dataframe tbody tr th:only-of-type {\n",
       "        vertical-align: middle;\n",
       "    }\n",
       "\n",
       "    .dataframe tbody tr th {\n",
       "        vertical-align: top;\n",
       "    }\n",
       "\n",
       "    .dataframe thead th {\n",
       "        text-align: right;\n",
       "    }\n",
       "</style>\n",
       "<table border=\"1\" class=\"dataframe\">\n",
       "  <thead>\n",
       "    <tr style=\"text-align: right;\">\n",
       "      <th></th>\n",
       "      <th>review</th>\n",
       "      <th>review_processed</th>\n",
       "    </tr>\n",
       "  </thead>\n",
       "  <tbody>\n",
       "    <tr>\n",
       "      <th>2847</th>\n",
       "      <td>WAY different from Pandora's Box, non-linear, ...</td>\n",
       "      <td>way different pandoras box nonlinear follows s...</td>\n",
       "    </tr>\n",
       "    <tr>\n",
       "      <th>604</th>\n",
       "      <td>So happy to have a great escape room right her...</td>\n",
       "      <td>happy great escape room right scv group played...</td>\n",
       "    </tr>\n",
       "    <tr>\n",
       "      <th>2939</th>\n",
       "      <td>Some of the puzzles were fairly interesting an...</td>\n",
       "      <td>puzzles fairly interesting fun concepts like c...</td>\n",
       "    </tr>\n",
       "    <tr>\n",
       "      <th>304</th>\n",
       "      <td>We have done about a dozen escape rooms (from ...</td>\n",
       "      <td>done dozen escape rooms 60out well couple comp...</td>\n",
       "    </tr>\n",
       "    <tr>\n",
       "      <th>2749</th>\n",
       "      <td>We had our 10-year-old’s birthday party there ...</td>\n",
       "      <td>10yearolds birthday party blast harder thought...</td>\n",
       "    </tr>\n",
       "  </tbody>\n",
       "</table>\n",
       "</div>"
      ],
      "text/plain": [
       "                                                 review  \\\n",
       "2847  WAY different from Pandora's Box, non-linear, ...   \n",
       "604   So happy to have a great escape room right her...   \n",
       "2939  Some of the puzzles were fairly interesting an...   \n",
       "304   We have done about a dozen escape rooms (from ...   \n",
       "2749  We had our 10-year-old’s birthday party there ...   \n",
       "\n",
       "                                       review_processed  \n",
       "2847  way different pandoras box nonlinear follows s...  \n",
       "604   happy great escape room right scv group played...  \n",
       "2939  puzzles fairly interesting fun concepts like c...  \n",
       "304   done dozen escape rooms 60out well couple comp...  \n",
       "2749  10yearolds birthday party blast harder thought...  "
      ]
     },
     "execution_count": 335,
     "metadata": {},
     "output_type": "execute_result"
    }
   ],
   "source": [
    "(escape_room_reviews[[\"review\"]]\n",
    "    .assign(review_processed = process_corpus(escape_room_reviews[\"review\"]))\n",
    "    .sample(n = 5, replace = False))"
   ]
  },
  {
   "cell_type": "markdown",
   "metadata": {},
   "source": [
    "### Full process"
   ]
  },
  {
   "cell_type": "code",
   "execution_count": 336,
   "metadata": {},
   "outputs": [],
   "source": [
    "reviews_processed = process_corpus(escape_room_reviews[\"review\"])"
   ]
  },
  {
   "cell_type": "markdown",
   "metadata": {},
   "source": [
    "## Bag of Words Matrix\n",
    "Vectorize documents"
   ]
  },
  {
   "cell_type": "code",
   "execution_count": 345,
   "metadata": {},
   "outputs": [],
   "source": [
    "# min_df and max_df\n",
    "# When building the vocabulary ignore terms that have a document frequency strictly [higher/lower] than the given threshold (corpus-specific stop words). If float, the parameter represents a proportion of documents, integer absolute counts. This parameter is ignored if vocabulary is not None.\n",
    "bag_of_words_matrix = (sklearn.feature_extraction.text\n",
    "    .CountVectorizer(min_df = 0.0, max_df = 1.0)\n",
    "    .fit_transform(reviews_processed))"
   ]
  },
  {
   "cell_type": "code",
   "execution_count": 349,
   "metadata": {},
   "outputs": [
    {
     "data": {
      "text/plain": [
       "array([[0, 0, 0, ..., 0, 0, 0],\n",
       "       [0, 0, 0, ..., 0, 0, 0],\n",
       "       [0, 0, 0, ..., 0, 0, 0],\n",
       "       ...,\n",
       "       [0, 0, 0, ..., 0, 0, 0],\n",
       "       [0, 0, 0, ..., 0, 0, 0],\n",
       "       [0, 0, 0, ..., 0, 0, 0]])"
      ]
     },
     "execution_count": 349,
     "metadata": {},
     "output_type": "execute_result"
    }
   ],
   "source": [
    "bag_of_words_matrix.toarray()"
   ]
  },
  {
   "cell_type": "markdown",
   "metadata": {},
   "source": [
    "## Bi-grams"
   ]
  },
  {
   "cell_type": "code",
   "execution_count": 143,
   "metadata": {},
   "outputs": [
    {
     "data": {
      "text/plain": [
       "{'escape_room',\n",
       " 'find_way',\n",
       " 'go_missing',\n",
       " 'good_luck',\n",
       " 'serial_killer',\n",
       " 'solve_mystery',\n",
       " 'solve_puzzle',\n",
       " 'time_run',\n",
       " 'year_ago'}"
      ]
     },
     "execution_count": 143,
     "metadata": {},
     "output_type": "execute_result"
    }
   ],
   "source": [
    "# bigrams\n",
    "bigram = Phrases(docs, min_count = 10)\n",
    "\n",
    "# conatiner for tokens\n",
    "tokens = []\n",
    "\n",
    "for i in range(len(docs)):\n",
    "    for token in bigram[docs[i]]:\n",
    "        if \"_\" in token:\n",
    "            # add token to docs\n",
    "            docs[i].append(token)\n",
    "            \n",
    "            # add token to cotntainer\n",
    "            tokens.append(token)\n",
    "\n",
    "# See some\n",
    "set(tokens)"
   ]
  },
  {
   "cell_type": "markdown",
   "metadata": {},
   "source": [
    "## Dictionary representations"
   ]
  },
  {
   "cell_type": "code",
   "execution_count": 144,
   "metadata": {},
   "outputs": [
    {
     "name": "stdout",
     "output_type": "stream",
     "text": [
      "Number of unique words in original documents: 4778\n",
      "Number of unique words after removing rare and common words: 1767\n",
      "Example representation of document 1999: [(141, 1), (895, 1), (1207, 1), (1658, 1), (1659, 1)]\n"
     ]
    }
   ],
   "source": [
    "dictionary = Dictionary(docs)\n",
    "print(\"Number of unique words in original documents:\", len(dictionary))\n",
    "\n",
    "dictionary.filter_extremes(no_below = 3, no_above = 0.25)\n",
    "print(\"Number of unique words after removing rare and common words:\", len(dictionary))\n",
    "\n",
    "# random document\n",
    "doc_random = np.random.randint(0, len(docs))\n",
    "print(\"Example representation of document {}:\".format(doc_random), dictionary.doc2bow(docs[doc_random]))"
   ]
  },
  {
   "cell_type": "markdown",
   "metadata": {},
   "source": [
    "## Bag of Words representations"
   ]
  },
  {
   "cell_type": "code",
   "execution_count": 145,
   "metadata": {},
   "outputs": [],
   "source": [
    "corpus = [dictionary.doc2bow(doc) for doc in docs]"
   ]
  },
  {
   "cell_type": "markdown",
   "metadata": {},
   "source": [
    "## LDA"
   ]
  },
  {
   "cell_type": "code",
   "execution_count": 149,
   "metadata": {},
   "outputs": [],
   "source": [
    "LdaModel_fit1 = LdaModel(corpus = corpus, id2word = dictionary, num_topics = 5, chunksize = 500, passes = 3, random_state = 34685)"
   ]
  },
  {
   "cell_type": "code",
   "execution_count": null,
   "metadata": {},
   "outputs": [],
   "source": [
    "LdaModel_fit1."
   ]
  },
  {
   "cell_type": "markdown",
   "metadata": {},
   "source": [
    "## LDA plot"
   ]
  },
  {
   "cell_type": "code",
   "execution_count": 150,
   "metadata": {},
   "outputs": [
    {
     "data": {
      "text/html": [
       "\n",
       "<link rel=\"stylesheet\" type=\"text/css\" href=\"https://cdn.rawgit.com/bmabey/pyLDAvis/files/ldavis.v1.0.0.css\">\n",
       "\n",
       "\n",
       "<div id=\"ldavis_el618901402517147342886522278615\"></div>\n",
       "<script type=\"text/javascript\">\n",
       "\n",
       "var ldavis_el618901402517147342886522278615_data = {\"mdsDat\": {\"x\": [0.10042369922527766, -0.30516270022825237, 0.03479510743154147, 0.07754039245744349, 0.09240350111399018], \"y\": [-0.04057943269287362, 0.028747033704982845, -0.2506826195478869, 0.18079118029529678, 0.08172383824048086], \"topics\": [1, 2, 3, 4, 5], \"cluster\": [1, 1, 1, 1, 1], \"Freq\": [21.293180465698242, 17.406469345092773, 20.30234146118164, 23.536209106445312, 17.461793899536133]}, \"tinfo\": {\"Term\": [\"escape\", \"solve\", \"find\", \"year\", \"clue\", \"way\", \"good\", \"dark\", \"puzzle\", \"lab\", \"get\", \"fortune\", \"help\", \"leave\", \"save\", \"know\", \"team\", \"arrive\", \"room\", \"pass\", \"stop\", \"complete\", \"people\", \"mission\", \"go\", \"friend\", \"happen\", \"professor\", \"hear\", \"begin\", \"get\", \"\\r\\n\\r\\n\", \"apartment\", \"war\", \"deadly\", \"recent\", \"prison\", \"end\", \"united\", \"criminal\", \"tell\", \"states\", \"fellow\", \"spy\", \"bunker\", \"facility\", \"suddenly\", \"call\", \"say\", \"clock\", \"shut\", \"chemical\", \"bank\", \"sneak\", \"soon\", \"change\", \"protect\", \"heist\", \"ready\", \"truth\", \"hand\", \"day\", \"control\", \"virus\", \"experience\", \"big\", \"live\", \"room\", \"lock\", \"know\", \"...\", \"life\", \"escape\", \"thing\", \"find\", \"house\", \"great\", \"secret\", \"set\", \"world\", \"old\", \"hour\", \"time\", \"year\", \"dark\", \"professor\", \"hear\", \"man\", \"destroy\", \"believe\", \"strange\", \"follow\", \"fortune\", \"society\", \"ago\", \"kingdom\", \"investigation\", \"brother\", \"american\", \"leader\", \"discovery\", \"luck\", \"board\", \"access\", \"claim\", \"hire\", \"die\", \"good\", \"safety\", \"good_luck\", \"feel\", \"light\", \"awaken\", \"report\", \"grandfather\", \"valley\", \"evil\", \"trace\", \"pirate\", \"year\", \"ship\", \"leave\", \"late\", \"lead\", \"city\", \"away\", \"secret\", \"nitr0\", \"miss\", \"hour\", \"world\", \"evidence\", \"travel\", \"power\", \"new\", \"family\", \"complete\", \"begin\", \"scientist\", \"antidote\", \"case\", \"see\", \"train\", \"receive\", \"figure\", \"investigate\", \"laboratory\", \"ritual\", \"recently\", \"body\", \"missing\", \"party\", \"research\", \"go_missing\", \"entrance\", \"choose\", \"large\", \"wall\", \"lab\", \"member\", \"rogue\", \"cause\", \"skill\", \"retrieve\", \"ghost\", \"mansion\", \"final\", \"disappear\", \"manage\", \"discover\", \"team\", \"group\", \"mission\", \"go\", \"hide\", \"place\", \"look\", \"send\", \"enter\", \"secret\", \"chance\", \"search\", \"treasure\", \"time\", \"old\", \"help\", \"find\", \"break\", \"hour\", \"solve\", \"puzzle\", \"code\", \"arrive\", \"find_way\", \"challenge\", \"killer\", \"victim\", \"fbi\", \"space\", \"explore\", \"piece\", \"powerful\", \"riddle\", \"essence\", \"unlock\", \"open\", \"temple\", \"solve_puzzle\", \"today\", \"home\", \"time_run\", \"spell\", \"collection\", \"entire\", \"week\", \"solve_mystery\", \"explorer\", \"oxygen\", \"station\", \"gather\", \"series\", \"clue\", \"way\", \"curse\", \"escape\", \"run\", \"time\", \"mystery\", \"find\", \"minute\", \"trap\", \"crime\", \"leave\", \"door\", \"take\", \"game\", \"set\", \"room\", \"turn\", \"try\", \"hour\", \"team\", \"people\", \"school\", \"kill\", \"task\", \"quickly\", \"government\", \"track\", \"future\", \"lie\", \"hero\", \"step\", \"ask\", \"meet\", \"wrong\", \"organization\", \"dream\", \"far\", \"attack\", \"month\", \"reality\", \"christmas\", \"afraid\", \"humanity\", \"single\", \"happen\", \"past\", \"hope\", \"100\", \"special\", \"santa\", \"pass\", \"night\", \"force\", \"test\", \"stop\", \"save\", \"friend\", \"help\", \"need\", \"come\", \"world\", \"work\", \"order\", \"know\", \"find\", \"crew\", \"crime\", \"team\", \"mission\"], \"Freq\": [225.0, 81.0, 339.0, 92.0, 81.0, 91.0, 49.0, 45.0, 54.0, 52.0, 50.0, 43.0, 78.0, 101.0, 65.0, 120.0, 156.0, 47.0, 108.0, 42.0, 53.0, 40.0, 36.0, 74.0, 94.0, 59.0, 38.0, 34.0, 33.0, 37.0, 49.08069610595703, 37.81659698486328, 28.418603897094727, 26.26581573486328, 26.611713409423828, 24.270751953125, 25.314167022705078, 26.595924377441406, 21.093730926513672, 21.095731735229492, 20.902057647705078, 20.520626068115234, 20.537826538085938, 20.640260696411133, 19.197219848632812, 27.45808219909668, 17.797121047973633, 17.71108627319336, 17.944326400756836, 16.759811401367188, 16.967809677124023, 17.164291381835938, 15.753194808959961, 17.51869773864746, 16.32814598083496, 16.7402400970459, 15.790635108947754, 15.275400161743164, 15.436633110046387, 14.632524490356445, 32.40974044799805, 40.76909637451172, 19.653806686401367, 42.761749267578125, 22.706188201904297, 30.910259246826172, 26.160140991210938, 60.80791091918945, 36.8361701965332, 57.3267822265625, 40.88778305053711, 32.299659729003906, 56.06230163574219, 29.616683959960938, 64.57568359375, 26.9715518951416, 28.796297073364258, 34.4962272644043, 27.659761428833008, 32.691505432128906, 25.0584659576416, 28.697771072387695, 29.74396514892578, 25.92732048034668, 44.28469467163086, 33.872093200683594, 33.132083892822266, 32.322486877441406, 27.041902542114258, 26.62718963623047, 24.102571487426758, 24.31648826599121, 42.00516891479492, 19.270484924316406, 21.23596954345703, 19.79144287109375, 18.33599090576172, 17.533119201660156, 17.59418296813965, 16.89158058166504, 17.29764747619629, 16.28997230529785, 15.201253890991211, 15.191781997680664, 15.213577270507812, 14.38207721710205, 16.629623413085938, 47.25380325317383, 13.47801685333252, 12.889720916748047, 12.928804397583008, 12.86349105834961, 12.719466209411621, 13.474787712097168, 13.585138320922852, 17.01433753967285, 30.286170959472656, 13.894113540649414, 23.31255531311035, 59.4803352355957, 29.903339385986328, 43.86344528198242, 26.951208114624023, 27.391218185424805, 21.750558853149414, 22.24974250793457, 44.373416900634766, 22.553041458129883, 20.691076278686523, 33.63400650024414, 36.01034164428711, 24.22138214111328, 21.759639739990234, 23.4218807220459, 22.62655258178711, 21.357656478881836, 39.83885955810547, 36.607723236083984, 36.08115768432617, 32.95931625366211, 30.405996322631836, 28.168033599853516, 28.138731002807617, 26.57450294494629, 26.54916763305664, 20.49908447265625, 18.932086944580078, 19.054222106933594, 19.088422775268555, 18.627626419067383, 18.02216911315918, 17.908296585083008, 17.655548095703125, 15.970173835754395, 15.737222671508789, 16.036176681518555, 15.615717887878418, 15.509637832641602, 50.07869338989258, 17.327482223510742, 14.774038314819336, 14.217662811279297, 14.345383644104004, 13.815857887268066, 13.897772789001465, 13.72264575958252, 15.967034339904785, 24.939638137817383, 17.444028854370117, 40.9892578125, 89.12347412109375, 38.07645034790039, 47.79253387451172, 55.0457878112793, 52.26353073120117, 32.76805114746094, 34.040870666503906, 27.649072647094727, 27.1008243560791, 54.93614196777344, 22.734981536865234, 25.35489273071289, 26.30824089050293, 39.12724685668945, 24.777854919433594, 27.832521438598633, 39.22796630859375, 23.33002471923828, 23.536394119262695, 80.67591857910156, 53.84014892578125, 40.8209228515625, 46.71306228637695, 38.64957046508789, 37.009056091308594, 35.10121154785156, 25.63467025756836, 23.815120697021484, 23.094423294067383, 22.144493103027344, 22.545602798461914, 23.178674697875977, 19.800832748413086, 19.193031311035156, 19.340946197509766, 21.65729522705078, 17.21351432800293, 16.895627975463867, 16.931760787963867, 33.29469299316406, 17.043718338012695, 16.898069381713867, 17.3321590423584, 16.977115631103516, 15.83623218536377, 15.331144332885742, 15.980074882507324, 14.385834693908691, 15.326177597045898, 28.79560089111328, 22.787736892700195, 71.03005981445312, 75.42322540283203, 42.85335159301758, 149.9907684326172, 38.37620162963867, 123.48637390136719, 37.82366943359375, 169.2476348876953, 64.53099060058594, 32.80560302734375, 37.459590911865234, 46.930240631103516, 32.97886657714844, 41.90494918823242, 32.66215133666992, 33.257328033447266, 38.5772819519043, 28.334863662719727, 25.45645523071289, 26.747446060180664, 27.03441047668457, 35.618125915527344, 32.08506774902344, 31.717317581176758, 30.272220611572266, 30.230804443359375, 23.31188201904297, 21.331247329711914, 20.74599266052246, 20.542179107666016, 19.518056869506836, 20.11614227294922, 19.191011428833008, 17.801279067993164, 22.132360458374023, 15.953665733337402, 21.608963012695312, 15.872811317443848, 17.61823272705078, 14.549849510192871, 14.843047142028809, 13.267008781433105, 13.478044509887695, 12.812091827392578, 12.193136215209961, 36.13154220581055, 11.6989107131958, 26.64611053466797, 12.06387996673584, 11.482121467590332, 17.064958572387695, 38.70328140258789, 25.705947875976562, 30.08240509033203, 30.051877975463867, 40.54233169555664, 45.88711166381836, 39.69677734375, 45.350181579589844, 39.74365234375, 41.20175552368164, 55.719970703125, 35.47401809692383, 26.563077926635742, 41.43699264526367, 65.74241638183594, 25.57130241394043, 24.133935928344727, 25.396413803100586, 21.474727630615234], \"Total\": [225.0, 81.0, 339.0, 92.0, 81.0, 91.0, 49.0, 45.0, 54.0, 52.0, 50.0, 43.0, 78.0, 101.0, 65.0, 120.0, 156.0, 47.0, 108.0, 42.0, 53.0, 40.0, 36.0, 74.0, 94.0, 59.0, 38.0, 34.0, 33.0, 37.0, 50.0955810546875, 38.66694259643555, 29.174930572509766, 27.005836486816406, 27.395767211914062, 25.033428192138672, 26.109811782836914, 27.4940128326416, 21.83743667602539, 21.840070724487305, 21.64853286743164, 21.2675838470459, 21.289295196533203, 21.399471282958984, 19.935543060302734, 28.517648696899414, 18.537677764892578, 18.458600997924805, 18.71573829650879, 17.495162963867188, 17.71244239807129, 17.919050216674805, 16.492279052734375, 18.34076499938965, 17.096675872802734, 17.528255462646484, 16.54751968383789, 16.012710571289062, 16.193429946899414, 15.38573932647705, 34.674564361572266, 44.874271392822266, 21.096921920776367, 50.3600959777832, 25.013233184814453, 39.04869842529297, 31.465465545654297, 108.24632263183594, 56.77736282348633, 120.28672790527344, 79.4195556640625, 59.584747314453125, 225.11427307128906, 56.513458251953125, 339.43212890625, 46.395347595214844, 54.82090759277344, 151.81027221679688, 67.43699645996094, 148.0926055908203, 50.410091400146484, 112.80915832519531, 213.4041290283203, 92.58092498779297, 45.196598052978516, 34.619876861572266, 33.87660217285156, 33.18364715576172, 27.783246994018555, 27.362491607666016, 24.928821563720703, 25.153240203857422, 43.49460983276367, 20.005632400512695, 22.068931579589844, 20.589204788208008, 19.082077026367188, 18.26754379272461, 18.34588050842285, 17.626066207885742, 18.060922622680664, 17.019107818603516, 15.95207691192627, 15.949912071228027, 15.975399017333984, 15.121954917907715, 17.510770797729492, 49.85333251953125, 14.237799644470215, 13.616716384887695, 13.666152954101562, 13.598036766052246, 13.451622009277344, 14.275594711303711, 14.41035270690918, 18.30682373046875, 36.1900634765625, 14.885140419006348, 28.030258178710938, 92.58092498779297, 51.052669525146484, 101.08090209960938, 45.232810974121094, 47.64116287231445, 32.02442169189453, 33.93876647949219, 151.81027221679688, 35.87968444824219, 29.458457946777344, 112.80915832519531, 148.0926055908203, 48.3741455078125, 37.300113677978516, 62.6925048828125, 53.0025520324707, 64.76728820800781, 40.58463668823242, 37.37176513671875, 36.83660125732422, 33.732688903808594, 31.15685272216797, 28.909517288208008, 28.892223358154297, 27.358444213867188, 27.34368324279785, 21.29905891418457, 19.672077178955078, 19.802675247192383, 19.84828758239746, 19.388229370117188, 18.758808135986328, 18.650346755981445, 18.444927215576172, 16.706327438354492, 16.477628707885742, 16.792125701904297, 16.361751556396484, 16.25235366821289, 52.498016357421875, 18.165611267089844, 15.522700309753418, 14.958806991577148, 15.095237731933594, 14.553445816040039, 14.644885063171387, 14.470829010009766, 16.85988998413086, 27.12482452392578, 19.092636108398438, 57.1789436340332, 156.65478515625, 54.056278228759766, 74.10868835449219, 94.92286682128906, 99.86296081542969, 52.05180358886719, 56.173606872558594, 40.9579963684082, 41.308570861816406, 151.81027221679688, 32.49579620361328, 42.66572952270508, 48.36487579345703, 213.4041290283203, 50.410091400146484, 78.11184692382812, 339.43212890625, 44.996612548828125, 112.80915832519531, 81.43218231201172, 54.699317932128906, 41.56245803833008, 47.610572814941406, 39.39749526977539, 37.74531936645508, 36.080684661865234, 26.376005172729492, 24.577842712402344, 23.838180541992188, 22.8914852142334, 23.315031051635742, 23.97087860107422, 20.549476623535156, 19.923564910888672, 20.07830238342285, 22.55211067199707, 17.96063995361328, 17.629648208618164, 17.672016143798828, 34.75056838989258, 17.79970359802246, 17.648475646972656, 18.1035099029541, 17.76762580871582, 16.590410232543945, 16.065744400024414, 16.75215721130371, 15.128604888916016, 16.146638870239258, 30.484533309936523, 24.383705139160156, 81.69947052001953, 91.46308135986328, 51.377037048339844, 225.11427307128906, 46.10102081298828, 213.4041290283203, 49.19573211669922, 339.43212890625, 100.10690307617188, 46.84060287475586, 62.15156555175781, 101.08090209960938, 55.667301177978516, 93.83956909179688, 60.90837860107422, 67.43699645996094, 108.24632263183594, 49.47110366821289, 38.50926971435547, 112.80915832519531, 156.65478515625, 36.3754768371582, 32.81928253173828, 32.47517776489258, 31.004743576049805, 30.9642333984375, 24.091020584106445, 22.07836151123047, 21.49174690246582, 21.302419662475586, 20.250932693481445, 20.892492294311523, 19.935256958007812, 18.54854965209961, 23.15639305114746, 16.69538688659668, 22.621620178222656, 16.624988555908203, 18.496204376220703, 15.303884506225586, 15.660158157348633, 14.003341674804688, 14.23746395111084, 13.547636032104492, 12.937660217285156, 38.3806266784668, 12.429268836975098, 28.33321189880371, 12.830911636352539, 12.217926025390625, 18.223569869995117, 42.198219299316406, 28.16119384765625, 33.96603775024414, 35.96902084350586, 53.24267578125, 65.2784194946289, 59.77203369140625, 78.11184692382812, 76.2218017578125, 80.87557220458984, 148.0926055908203, 70.0036392211914, 41.780479431152344, 120.28672790527344, 339.43212890625, 44.207862854003906, 62.15156555175781, 156.65478515625, 74.10868835449219], \"Category\": [\"Default\", \"Default\", \"Default\", \"Default\", \"Default\", \"Default\", \"Default\", \"Default\", \"Default\", \"Default\", \"Default\", \"Default\", \"Default\", \"Default\", \"Default\", \"Default\", \"Default\", \"Default\", \"Default\", \"Default\", \"Default\", \"Default\", \"Default\", \"Default\", \"Default\", \"Default\", \"Default\", \"Default\", \"Default\", \"Default\", \"Topic1\", \"Topic1\", \"Topic1\", \"Topic1\", \"Topic1\", \"Topic1\", \"Topic1\", \"Topic1\", \"Topic1\", \"Topic1\", \"Topic1\", \"Topic1\", \"Topic1\", \"Topic1\", \"Topic1\", \"Topic1\", \"Topic1\", \"Topic1\", \"Topic1\", \"Topic1\", \"Topic1\", \"Topic1\", \"Topic1\", \"Topic1\", \"Topic1\", \"Topic1\", \"Topic1\", \"Topic1\", \"Topic1\", \"Topic1\", \"Topic1\", \"Topic1\", \"Topic1\", \"Topic1\", \"Topic1\", \"Topic1\", \"Topic1\", \"Topic1\", \"Topic1\", \"Topic1\", \"Topic1\", \"Topic1\", \"Topic1\", \"Topic1\", \"Topic1\", \"Topic1\", \"Topic1\", \"Topic1\", \"Topic1\", \"Topic1\", \"Topic1\", \"Topic1\", \"Topic1\", \"Topic1\", \"Topic2\", \"Topic2\", \"Topic2\", \"Topic2\", \"Topic2\", \"Topic2\", \"Topic2\", \"Topic2\", \"Topic2\", \"Topic2\", \"Topic2\", \"Topic2\", \"Topic2\", \"Topic2\", \"Topic2\", \"Topic2\", \"Topic2\", \"Topic2\", \"Topic2\", \"Topic2\", \"Topic2\", \"Topic2\", \"Topic2\", \"Topic2\", \"Topic2\", \"Topic2\", \"Topic2\", \"Topic2\", \"Topic2\", \"Topic2\", \"Topic2\", \"Topic2\", \"Topic2\", \"Topic2\", \"Topic2\", \"Topic2\", \"Topic2\", \"Topic2\", \"Topic2\", \"Topic2\", \"Topic2\", \"Topic2\", \"Topic2\", \"Topic2\", \"Topic2\", \"Topic2\", \"Topic2\", \"Topic2\", \"Topic2\", \"Topic2\", \"Topic2\", \"Topic2\", \"Topic3\", \"Topic3\", \"Topic3\", \"Topic3\", \"Topic3\", \"Topic3\", \"Topic3\", \"Topic3\", \"Topic3\", \"Topic3\", \"Topic3\", \"Topic3\", \"Topic3\", \"Topic3\", \"Topic3\", \"Topic3\", \"Topic3\", \"Topic3\", \"Topic3\", \"Topic3\", \"Topic3\", \"Topic3\", \"Topic3\", \"Topic3\", \"Topic3\", \"Topic3\", \"Topic3\", \"Topic3\", \"Topic3\", \"Topic3\", \"Topic3\", \"Topic3\", \"Topic3\", \"Topic3\", \"Topic3\", \"Topic3\", \"Topic3\", \"Topic3\", \"Topic3\", \"Topic3\", \"Topic3\", \"Topic3\", \"Topic3\", \"Topic3\", \"Topic3\", \"Topic3\", \"Topic3\", \"Topic3\", \"Topic3\", \"Topic3\", \"Topic3\", \"Topic3\", \"Topic3\", \"Topic4\", \"Topic4\", \"Topic4\", \"Topic4\", \"Topic4\", \"Topic4\", \"Topic4\", \"Topic4\", \"Topic4\", \"Topic4\", \"Topic4\", \"Topic4\", \"Topic4\", \"Topic4\", \"Topic4\", \"Topic4\", \"Topic4\", \"Topic4\", \"Topic4\", \"Topic4\", \"Topic4\", \"Topic4\", \"Topic4\", \"Topic4\", \"Topic4\", \"Topic4\", \"Topic4\", \"Topic4\", \"Topic4\", \"Topic4\", \"Topic4\", \"Topic4\", \"Topic4\", \"Topic4\", \"Topic4\", \"Topic4\", \"Topic4\", \"Topic4\", \"Topic4\", \"Topic4\", \"Topic4\", \"Topic4\", \"Topic4\", \"Topic4\", \"Topic4\", \"Topic4\", \"Topic4\", \"Topic4\", \"Topic4\", \"Topic4\", \"Topic4\", \"Topic4\", \"Topic4\", \"Topic5\", \"Topic5\", \"Topic5\", \"Topic5\", \"Topic5\", \"Topic5\", \"Topic5\", \"Topic5\", \"Topic5\", \"Topic5\", \"Topic5\", \"Topic5\", \"Topic5\", \"Topic5\", \"Topic5\", \"Topic5\", \"Topic5\", \"Topic5\", \"Topic5\", \"Topic5\", \"Topic5\", \"Topic5\", \"Topic5\", \"Topic5\", \"Topic5\", \"Topic5\", \"Topic5\", \"Topic5\", \"Topic5\", \"Topic5\", \"Topic5\", \"Topic5\", \"Topic5\", \"Topic5\", \"Topic5\", \"Topic5\", \"Topic5\", \"Topic5\", \"Topic5\", \"Topic5\", \"Topic5\", \"Topic5\", \"Topic5\", \"Topic5\", \"Topic5\", \"Topic5\", \"Topic5\", \"Topic5\", \"Topic5\"], \"logprob\": [30.0, 29.0, 28.0, 27.0, 26.0, 25.0, 24.0, 23.0, 22.0, 21.0, 20.0, 19.0, 18.0, 17.0, 16.0, 15.0, 14.0, 13.0, 12.0, 11.0, 10.0, 9.0, 8.0, 7.0, 6.0, 5.0, 4.0, 3.0, 2.0, 1.0, -4.469399929046631, -4.730100154876709, -5.0157999992370605, -5.094600200653076, -5.081500053405762, -5.173600196838379, -5.131499767303467, -5.082099914550781, -5.313899993896484, -5.313799858093262, -5.322999954223633, -5.3414998054504395, -5.34060001373291, -5.335599899291992, -5.408100128173828, -5.05019998550415, -5.483799934387207, -5.488699913024902, -5.475599765777588, -5.543900012969971, -5.531599998474121, -5.520100116729736, -5.605800151824951, -5.499599933624268, -5.570000171661377, -5.545100212097168, -5.603499889373779, -5.636600017547607, -5.626100063323975, -5.679599761962891, -4.884399890899658, -4.65500020980835, -5.3846001625061035, -4.6072001457214355, -5.240200042724609, -4.93179988861084, -5.098599910736084, -4.255199909210205, -4.756400108337402, -4.3140997886657715, -4.652100086212158, -4.887800216674805, -4.336400032043457, -4.9745001792907715, -4.195000171661377, -5.0680999755859375, -5.002600193023682, -4.822000026702881, -5.042900085449219, -4.875800132751465, -5.14169979095459, -5.006100177764893, -4.970300197601318, -5.107600212097168, -4.370699882507324, -4.638700008392334, -4.660799980163574, -4.6855998039245605, -4.863999843597412, -4.87939977645874, -4.979000091552734, -4.970200061798096, -4.423500061035156, -5.2027997970581055, -5.105599880218506, -5.17609977722168, -5.252500057220459, -5.2972002029418945, -5.293799877166748, -5.334499835968018, -5.310800075531006, -5.370800018310547, -5.440000057220459, -5.4405999183654785, -5.439199924468994, -5.4953999519348145, -5.350200176239014, -4.305799961090088, -5.560299873352051, -5.604899883270264, -5.601900100708008, -5.606900215148926, -5.618199825286865, -5.560500144958496, -5.5524001121521, -5.327300071716309, -4.7505998611450195, -5.529900074005127, -5.01230001449585, -4.075699806213379, -4.763400077819824, -4.380300045013428, -4.867300033569336, -4.851099967956543, -5.081699848175049, -5.059000015258789, -4.36870002746582, -5.045499801635742, -5.1315999031066895, -4.6458001136779785, -4.577499866485596, -4.974100112915039, -5.081299781799316, -5.007699966430664, -5.042200088500977, -5.099899768829346, -4.63040018081665, -4.715000152587891, -4.729499816894531, -4.820000171661377, -4.900599956512451, -4.9770002365112305, -4.978099822998047, -5.035299777984619, -5.036200046539307, -5.294899940490723, -5.3744001388549805, -5.3678998947143555, -5.366199970245361, -5.390600204467773, -5.423600196838379, -5.429999828338623, -5.444200038909912, -5.54449987411499, -5.559199810028076, -5.54040002822876, -5.566999912261963, -5.573800086975098, -4.401599884033203, -5.462900161743164, -5.622399806976318, -5.660699844360352, -5.651800155639648, -5.6894001960754395, -5.683499813079834, -5.696199893951416, -5.5447001457214355, -5.098800182342529, -5.456200122833252, -4.601900100708008, -3.825200080871582, -4.675600051879883, -4.448400020599365, -4.30709981918335, -4.35890007019043, -4.825799942016602, -4.787700176239014, -4.99560022354126, -5.015699863433838, -4.309100151062012, -5.191299915313721, -5.082300186157227, -5.045400142669678, -4.648399829864502, -5.105299949645996, -4.988999843597412, -4.6458001136779785, -5.165500164031982, -5.156700134277344, -4.0725998878479, -4.4770002365112305, -4.753799915313721, -4.61899995803833, -4.808499813079834, -4.851900100708008, -4.904799938201904, -5.219099998474121, -5.292699813842773, -5.323400020599365, -5.3653998374938965, -5.347499847412109, -5.319799900054932, -5.47730016708374, -5.508500099182129, -5.500800132751465, -5.387700080871582, -5.617300033569336, -5.636000156402588, -5.633800029754639, -4.957600116729736, -5.627299785614014, -5.635799884796143, -5.610499858856201, -5.631199836730957, -5.700699806213379, -5.7332000732421875, -5.691699981689453, -5.796800136566162, -5.733500003814697, -5.102799892425537, -5.3368000984191895, -4.199900150299072, -4.139900207519531, -4.7052998542785645, -3.452500104904175, -4.8155999183654785, -3.646899938583374, -4.830100059509277, -3.331700086593628, -4.295899868011475, -4.972400188446045, -4.839799880981445, -4.6143999099731445, -4.967199802398682, -4.72760009765625, -4.976799964904785, -4.958799839019775, -4.810400009155273, -5.118899822235107, -5.226099967956543, -5.176599979400635, -5.165900230407715, -4.591700077056885, -4.696100234985352, -4.707699775695801, -4.754300117492676, -4.75570011138916, -5.015600204467773, -5.104300022125244, -5.132199764251709, -5.142000198364258, -5.19320011138916, -5.163000106811523, -5.210100173950195, -5.285200119018555, -5.067500114440918, -5.394800186157227, -5.091400146484375, -5.399899959564209, -5.295599937438965, -5.4868998527526855, -5.4670000076293945, -5.57919979095459, -5.563499927520752, -5.614099979400635, -5.663599967956543, -4.577300071716309, -5.704999923706055, -4.881899833679199, -5.674300193786621, -5.723700046539307, -5.327499866485596, -4.508600234985352, -4.917799949645996, -4.7606000900268555, -4.761600017547607, -4.462200164794922, -4.3383002281188965, -4.4832000732421875, -4.350100040435791, -4.482100009918213, -4.446000099182129, -4.144199848175049, -4.595699787139893, -4.885000228881836, -4.440299987792969, -3.978800058364868, -4.922999858856201, -4.980899810791016, -4.929900169372559, -5.097599983215332], \"loglift\": [30.0, 29.0, 28.0, 27.0, 26.0, 25.0, 24.0, 23.0, 22.0, 21.0, 20.0, 19.0, 18.0, 17.0, 16.0, 15.0, 14.0, 13.0, 12.0, 11.0, 10.0, 9.0, 8.0, 7.0, 6.0, 5.0, 4.0, 3.0, 2.0, 1.0, 1.5262999534606934, 1.5245000123977661, 1.5204999446868896, 1.5190000534057617, 1.517699956893921, 1.5157999992370605, 1.5157999992370605, 1.5135999917984009, 1.5120999813079834, 1.5120999813079834, 1.5117000341415405, 1.5110000371932983, 1.5108000040054321, 1.510699987411499, 1.5089999437332153, 1.5089000463485718, 1.50600004196167, 1.5053999423980713, 1.504699945449829, 1.5038000345230103, 1.5038000345230103, 1.5038000345230103, 1.5009000301361084, 1.5009000301361084, 1.5008000135421753, 1.5008000135421753, 1.5, 1.4996000528335571, 1.498900055885315, 1.4966000318527222, 1.479200005531311, 1.4507999420166016, 1.4759000539779663, 1.3832000494003296, 1.4500000476837158, 1.313099980354309, 1.3621000051498413, 0.9700999855995178, 1.1140999794006348, 0.8057000041007996, 0.8828999996185303, 0.9344000220298767, 0.1565999984741211, 0.900600016117096, -0.11270000040531158, 1.0044000148773193, 0.902999997138977, 0.06499999761581421, 0.6556000113487244, 0.03610000014305115, 0.8478000164031982, 0.17790000140666962, -0.423799991607666, 0.27399998903274536, 1.7279000282287598, 1.7265000343322754, 1.726099967956543, 1.722000002861023, 1.7213000059127808, 1.7210999727249146, 1.7145999670028687, 1.7144999504089355, 1.7135000228881836, 1.7108999490737915, 1.7099000215530396, 1.708799958229065, 1.708400011062622, 1.7072999477386475, 1.7065000534057617, 1.7058000564575195, 1.7051000595092773, 1.7044999599456787, 1.7000999450683594, 1.6995999813079834, 1.6994999647140503, 1.698199987411499, 1.6966999769210815, 1.6948000192642212, 1.69350004196167, 1.69350004196167, 1.6928999423980713, 1.6928000450134277, 1.6923999786376953, 1.690600037574768, 1.6893999576568604, 1.6750999689102173, 1.570199966430664, 1.6793999671936035, 1.5640000104904175, 1.305899977684021, 1.2134000062942505, 0.9135000109672546, 1.2304999828338623, 1.1949000358581543, 1.3615000247955322, 1.3260999917984009, 0.5182999968528748, 1.284000039100647, 1.3949999809265137, 0.5382000207901001, 0.3343000113964081, 1.0565999746322632, 1.2094000577926636, 0.7638000249862671, 0.8970999717712402, 0.6388999819755554, 1.5758999586105347, 1.573799967765808, 1.573699951171875, 1.5712000131607056, 1.5700000524520874, 1.56850004196167, 1.5679999589920044, 1.5654000043869019, 1.5649000406265259, 1.5562000274658203, 1.5561000108718872, 1.555899977684021, 1.555400013923645, 1.5543999671936035, 1.5543999671936035, 1.5537999868392944, 1.5506999492645264, 1.549399971961975, 1.5484999418258667, 1.5484000444412231, 1.5477999448776245, 1.547700047492981, 1.5472999811172485, 1.5471999645233154, 1.5449999570846558, 1.5435999631881714, 1.5434999465942383, 1.5424000024795532, 1.542099952697754, 1.5413000583648682, 1.5399999618530273, 1.5104000568389893, 1.50409996509552, 1.2616000175476074, 1.030400037765503, 1.24399995803833, 1.1557999849319458, 1.0494999885559082, 0.9469000101089478, 1.131600022315979, 1.093500018119812, 1.2015000581741333, 1.1728999614715576, 0.578000009059906, 1.2372000217437744, 1.0740000009536743, 0.9854999780654907, -0.10189999639987946, 0.8841999769210815, 0.5625, -0.5634999871253967, 0.9376000165939331, 0.027300000190734863, 1.4372999668121338, 1.430799961090088, 1.4285999536514282, 1.4276000261306763, 1.4275000095367432, 1.426900029182434, 1.419100046157837, 1.4180999994277954, 1.4150999784469604, 1.4148999452590942, 1.4134999513626099, 1.413100004196167, 1.4129999876022339, 1.409500002861023, 1.4092999696731567, 1.4091999530792236, 1.4061000347137451, 1.404099941253662, 1.404099941253662, 1.4038000106811523, 1.4038000106811523, 1.4032000303268433, 1.4032000303268433, 1.4031000137329102, 1.4011000394821167, 1.4000999927520752, 1.3997999429702759, 1.399399995803833, 1.396299958229065, 1.3945000171661377, 1.3896000385284424, 1.3789000511169434, 1.3066999912261963, 1.2538000345230103, 1.2652000188827515, 1.0405999422073364, 1.263200044631958, 0.8996000289916992, 1.1837999820709229, 0.7506999969482422, 1.0075000524520874, 1.090499997138977, 0.9402999877929688, 0.6794000267982483, 0.9230999946594238, 0.6403999924659729, 0.8234999775886536, 0.7397000193595886, 0.414900004863739, 0.8892999887466431, 1.0326999425888062, 0.007400000002235174, -0.31029999256134033, 1.7240999937057495, 1.722499966621399, 1.721500039100647, 1.7211999893188477, 1.7211999893188477, 1.7122999429702759, 1.7107000350952148, 1.7098000049591064, 1.708799958229065, 1.708299994468689, 1.7072999477386475, 1.7071000337600708, 1.7039999961853027, 1.6999000310897827, 1.6996999979019165, 1.6993999481201172, 1.6988999843597412, 1.6964999437332153, 1.694599986076355, 1.69159996509552, 1.691100001335144, 1.6902999877929688, 1.6892999410629272, 1.6858999729156494, 1.6848000288009644, 1.6845999956130981, 1.6837999820709229, 1.683500051498413, 1.6829999685287476, 1.6794999837875366, 1.6586999893188477, 1.6539000272750854, 1.6237000226974487, 1.5654000043869019, 1.472599983215332, 1.392699956893921, 1.3358999490737915, 1.2014000415802002, 1.093999981880188, 1.0707000494003296, 0.7677000164985657, 1.0654000043869019, 1.292199969291687, 0.6794999837875366, 0.10360000282526016, 1.197700023651123, 0.7991999983787537, -0.07429999858140945, 0.5065000057220459]}, \"token.table\": {\"Topic\": [1, 1, 2, 4, 5, 5, 2, 5, 2, 2, 3, 1, 4, 5, 5, 2, 1, 2, 4, 5, 1, 3, 2, 1, 5, 2, 3, 1, 3, 4, 5, 2, 1, 1, 3, 3, 4, 1, 3, 1, 1, 3, 5, 2, 4, 2, 1, 2, 4, 4, 4, 1, 3, 4, 5, 3, 1, 4, 1, 2, 4, 5, 4, 5, 1, 1, 2, 3, 4, 5, 2, 1, 5, 1, 2, 2, 1, 3, 5, 2, 3, 5, 2, 3, 4, 5, 1, 1, 3, 4, 4, 3, 1, 3, 4, 5, 4, 2, 4, 2, 4, 1, 4, 4, 4, 1, 1, 2, 3, 4, 5, 5, 4, 2, 1, 3, 3, 1, 2, 3, 4, 5, 4, 2, 1, 3, 5, 2, 4, 1, 4, 5, 5, 1, 3, 4, 5, 3, 4, 1, 3, 1, 3, 5, 3, 1, 2, 5, 2, 5, 2, 1, 2, 3, 4, 1, 2, 3, 1, 4, 1, 4, 5, 2, 1, 1, 3, 5, 5, 1, 3, 4, 5, 2, 1, 4, 1, 5, 1, 2, 3, 4, 1, 2, 4, 5, 5, 3, 2, 5, 4, 2, 1, 2, 3, 5, 1, 3, 3, 3, 1, 2, 3, 4, 5, 2, 3, 4, 2, 2, 4, 5, 5, 1, 3, 4, 2, 1, 4, 1, 2, 3, 3, 4, 5, 2, 2, 3, 5, 3, 5, 3, 1, 3, 4, 5, 2, 3, 4, 5, 3, 3, 4, 5, 5, 1, 4, 1, 3, 4, 5, 1, 2, 4, 5, 1, 5, 1, 2, 4, 1, 3, 4, 1, 3, 5, 5, 4, 3, 1, 5, 5, 5, 4, 2, 5, 2, 3, 1, 2, 4, 5, 4, 1, 2, 1, 4, 5, 1, 5, 3, 1, 3, 2, 3, 3, 4, 3, 3, 1, 2, 3, 4, 2, 3, 4, 2, 5, 3, 4, 5, 1, 5, 3, 2, 3, 4, 5, 1, 2, 3, 4, 3, 1, 3, 3, 4, 1, 3, 4, 1, 2, 4, 5, 1, 5, 3, 1, 2, 4, 4, 4, 1, 4, 5, 4, 1, 1, 4, 5, 4, 5, 2, 1, 1, 3, 4, 5, 5, 1, 2, 3, 4, 5, 1, 4, 3, 5, 1, 3, 4, 5, 1, 2, 3, 4, 5, 4, 4, 2, 5, 3, 1, 3, 4, 5, 2, 4, 1, 3, 4, 5, 1, 1, 2, 3, 4, 2, 4, 1, 4, 2, 4, 4, 1, 5, 3, 1, 1, 3, 4, 4, 1, 2, 3, 4, 5, 1, 2, 3, 4, 5, 5, 1, 2, 4], \"Freq\": [0.9827516078948975, 0.5162456631660461, 0.012591357342898846, 0.3147839307785034, 0.16368764638900757, 0.9352414011955261, 0.9404440522193909, 0.9130839705467224, 0.9515639543533325, 0.9811466932296753, 0.9782795310020447, 0.9597280621528625, 0.987175703048706, 0.9530853033065796, 0.973172664642334, 0.9664261937141418, 0.17678898572921753, 0.648226261138916, 0.11785931885242462, 0.029464829713106155, 0.9701509475708008, 0.9900522232055664, 0.9867522716522217, 0.7938805222511292, 0.20487238466739655, 0.9403164386749268, 0.9799759984016418, 0.40003010630607605, 0.5111495852470398, 0.02222389541566372, 0.06667168438434601, 0.9853541254997253, 0.9530715942382812, 0.9751551747322083, 0.9628700613975525, 0.9359034895896912, 0.9802539944648743, 0.2769589126110077, 0.7077838778495789, 0.9698626399040222, 0.9487109780311584, 0.9528275728225708, 0.9283498525619507, 0.6869757175445557, 0.312261700630188, 0.9389436841011047, 0.9716971516609192, 0.12239981442689896, 0.8690387010574341, 0.986467182636261, 0.9390444159507751, 0.23492878675460815, 0.16074074804782867, 0.09891737997531891, 0.5069515705108643, 0.985594630241394, 0.9480056166648865, 0.047400280833244324, 0.022620409727096558, 0.13572245836257935, 0.2714449167251587, 0.5881306529045105, 0.5953188538551331, 0.3861527740955353, 0.9615353345870972, 0.038927897810935974, 0.019463948905467987, 0.07785579562187195, 0.8369497656822205, 0.038927897810935974, 0.9735245704650879, 0.9136638641357422, 0.08913793414831161, 0.9855536818504333, 0.971808671951294, 0.970831036567688, 0.03686659783124924, 0.9216649532318115, 0.03686659783124924, 0.26233434677124023, 0.7170471549034119, 0.017488954588770866, 0.9412586688995361, 0.3952050805091858, 0.5928075909614563, 0.9725209474563599, 0.9820320010185242, 0.2662885785102844, 0.6536173820495605, 0.07262415438890457, 0.9567963480949402, 0.9710134863853455, 0.24876254796981812, 0.017768753692507744, 0.6663282513618469, 0.06663282215595245, 0.9536445736885071, 0.4961327910423279, 0.4961327910423279, 0.8289568424224854, 0.13815946877002716, 0.9195132851600647, 0.07995767891407013, 0.9610560536384583, 0.9551008939743042, 0.946782112121582, 0.030879786238074303, 0.32423776388168335, 0.24703828990459442, 0.21615850925445557, 0.1698388159275055, 0.9624066948890686, 0.9764893054962158, 0.9512552618980408, 0.9864112138748169, 0.987430989742279, 0.9489979147911072, 0.19149631261825562, 0.002946097170934081, 0.11489778757095337, 0.4978904128074646, 0.19444240629673004, 0.9899106621742249, 0.954151451587677, 0.029441174119710922, 0.058882348239421844, 0.8832352161407471, 0.9656369090080261, 0.022991355508565903, 0.016730232164263725, 0.30114418268203735, 0.6692093014717102, 0.9771192669868469, 0.29552584886550903, 0.08209051191806793, 0.541797399520874, 0.08209051191806793, 0.03280352056026459, 0.9513021111488342, 0.9781301617622375, 0.9559651613235474, 0.23176713287830353, 0.5794178247451782, 0.17909277975559235, 0.957720935344696, 0.02005884051322937, 0.942765474319458, 0.02005884051322937, 0.9547088742256165, 0.9547125697135925, 0.9715237617492676, 0.5289952754974365, 0.20065337419509888, 0.10944729298353195, 0.16417093575000763, 0.2774885892868042, 0.018499238416552544, 0.7029711008071899, 0.922866702079773, 0.05767916887998581, 0.026054812595248222, 0.026054812595248222, 0.9379732012748718, 0.9741236567497253, 0.9367558360099792, 0.06401077657938004, 0.35846033692359924, 0.5760970115661621, 0.9876088500022888, 0.23031562566757202, 0.5207135677337646, 0.11015094816684723, 0.14019212126731873, 0.9258062243461609, 0.028776507824659348, 0.94962477684021, 0.035294268280267715, 0.9529452323913574, 0.257071316242218, 0.30139395594596863, 0.2127486914396286, 0.23934227228164673, 0.5819548964500427, 0.021553885191679, 0.043107770383358, 0.344862163066864, 0.9595770239830017, 0.9390086531639099, 0.9432935118675232, 0.9853679537773132, 0.9700481295585632, 0.9713828563690186, 0.4738677442073822, 0.1496424376964569, 0.024940406903624535, 0.3408522307872772, 0.038096677511930466, 0.9524169564247131, 0.9658359885215759, 0.9778904318809509, 0.15475492179393768, 0.5969118475914001, 0.1326470673084259, 0.022107845172286034, 0.08843138068914413, 0.5667368173599243, 0.10495125502347946, 0.3148537874221802, 0.9644806385040283, 0.43529489636421204, 0.4649740755558014, 0.09893065690994263, 0.985803484916687, 0.537050187587738, 0.06713127344846725, 0.38600483536720276, 0.9560203552246094, 0.826302707195282, 0.15890437364578247, 0.6516681909561157, 0.17612652480602264, 0.17612652480602264, 0.6052664518356323, 0.05340586230158806, 0.32043519616127014, 0.9401198029518127, 0.9643304347991943, 0.8903956413269043, 0.052376214414834976, 0.9674635529518127, 0.9704262614250183, 0.9358341693878174, 0.009989321231842041, 0.2197650671005249, 0.6493058800697327, 0.12986117601394653, 0.7128682732582092, 0.169730544090271, 0.06789221614599228, 0.03394610807299614, 0.9595492482185364, 0.6476973295211792, 0.05397477746009827, 0.2833675742149353, 0.9801433086395264, 0.22359663248062134, 0.7724247574806213, 0.07871763408184052, 0.18367448449134827, 0.2099137008190155, 0.5247842073440552, 0.22640419006347656, 0.4339413642883301, 0.09433507919311523, 0.2452712059020996, 0.0710197165608406, 0.9232563376426697, 0.02787092514336109, 0.6410312652587891, 0.3344511091709137, 0.4959324598312378, 0.4959324598312378, 0.9755184650421143, 0.2872154712677002, 0.0478692464530468, 0.6462348103523254, 0.9583485722541809, 0.9253993034362793, 0.9651294946670532, 0.07109304517507553, 0.9242095947265625, 0.9654630422592163, 0.9896777272224426, 0.9864880442619324, 0.8205418586730957, 0.14270293712615967, 0.3650209605693817, 0.6339837908744812, 0.3190174102783203, 0.3668700158596039, 0.15950870513916016, 0.15950870513916016, 0.9594975709915161, 0.9574944376945496, 0.9820947647094727, 0.9669122695922852, 0.9872152209281921, 0.9688597917556763, 0.9263015985488892, 0.9578447341918945, 0.9868982434272766, 0.9587180614471436, 0.9572614431381226, 0.910645067691803, 0.9758780598640442, 0.9619715213775635, 0.9732608199119568, 0.9594663381576538, 0.9663267135620117, 0.5635295510292053, 0.009238189086318016, 0.06466732174158096, 0.3602893650531769, 0.1301489621400833, 0.021691493690013885, 0.8242767453193665, 0.9130624532699585, 0.9328578114509583, 0.04595699533820152, 0.24510397017002106, 0.7046739459037781, 0.9617574214935303, 0.9750365614891052, 0.9772888422012329, 0.07031404227018356, 0.5859503746032715, 0.30469420552253723, 0.023438014090061188, 0.22396376729011536, 0.28983545303344727, 0.3622943162918091, 0.11856905370950699, 0.9685391783714294, 0.317398339509964, 0.683627188205719, 0.04101099446415901, 0.9432528614997864, 0.4152023494243622, 0.08897193521261215, 0.48934563994407654, 0.03917522728443146, 0.5876284241676331, 0.29381421208381653, 0.07835045456886292, 0.959777295589447, 0.927524745464325, 0.9274448156356812, 0.9814203381538391, 0.9497325420379639, 0.9946927428245544, 0.933663547039032, 0.9642847180366516, 0.935854434967041, 0.9648387432098389, 0.9003164768218994, 0.9632560014724731, 0.9813326597213745, 0.9874182343482971, 0.9289858937263489, 0.9572816491127014, 0.22538311779499054, 0.7700589895248413, 0.9627410769462585, 0.9709954261779785, 0.2664121389389038, 0.11722134053707123, 0.44757238030433655, 0.17050376534461975, 0.9675938487052917, 0.025533851236104965, 0.07021809369325638, 0.5681281685829163, 0.17235349118709564, 0.159586563706398, 0.9700426459312439, 0.9465141296386719, 0.1390085071325302, 0.8340510725975037, 0.5308470129966736, 0.017694899812340736, 0.21233880519866943, 0.23003369569778442, 0.14057834446430206, 0.04217350482940674, 0.1827518492937088, 0.5763712525367737, 0.056231338530778885, 0.9550721049308777, 0.9619728922843933, 0.940535306930542, 0.9511575102806091, 0.9691188931465149, 0.021348999813199043, 0.2561880052089691, 0.7045170068740845, 0.021348999813199043, 0.5898105502128601, 0.40214353799819946, 0.020676162093877792, 0.5375801920890808, 0.3101424276828766, 0.12405697256326675, 0.9749287962913513, 0.05193554610013962, 0.20774218440055847, 0.07790332287549973, 0.6491943597793579, 0.40427640080451965, 0.5659869909286499, 0.9616513252258301, 0.9462951421737671, 0.9286155104637146, 0.054624442011117935, 0.9857444167137146, 0.8538506627082825, 0.13899894058704376, 0.9844728112220764, 0.9627548456192017, 0.1202671080827713, 0.05466686561703682, 0.8200029730796814, 0.9644125699996948, 0.18570463359355927, 0.028569942340254784, 0.1285647451877594, 0.15713468194007874, 0.49997401237487793, 0.2228335440158844, 0.2430911362171173, 0.027010126039385796, 0.13505063951015472, 0.37814176082611084, 0.9500616192817688, 0.2808353900909424, 0.637280285358429, 0.07560952752828598], \"Term\": [\"\\r\\n\\r\\n\", \"...\", \"...\", \"...\", \"...\", \"100\", \"access\", \"afraid\", \"ago\", \"american\", \"antidote\", \"apartment\", \"arrive\", \"ask\", \"attack\", \"awaken\", \"away\", \"away\", \"away\", \"away\", \"bank\", \"begin\", \"believe\", \"big\", \"big\", \"board\", \"body\", \"break\", \"break\", \"break\", \"break\", \"brother\", \"bunker\", \"call\", \"case\", \"cause\", \"challenge\", \"chance\", \"chance\", \"change\", \"chemical\", \"choose\", \"christmas\", \"city\", \"city\", \"claim\", \"clock\", \"clue\", \"clue\", \"code\", \"collection\", \"come\", \"come\", \"come\", \"come\", \"complete\", \"control\", \"control\", \"crew\", \"crew\", \"crew\", \"crew\", \"crime\", \"crime\", \"criminal\", \"curse\", \"curse\", \"curse\", \"curse\", \"curse\", \"dark\", \"day\", \"day\", \"deadly\", \"destroy\", \"die\", \"disappear\", \"disappear\", \"disappear\", \"discover\", \"discover\", \"discover\", \"discovery\", \"door\", \"door\", \"dream\", \"end\", \"enter\", \"enter\", \"enter\", \"entire\", \"entrance\", \"escape\", \"escape\", \"escape\", \"escape\", \"essence\", \"evidence\", \"evidence\", \"evil\", \"evil\", \"experience\", \"experience\", \"explore\", \"explorer\", \"facility\", \"family\", \"family\", \"family\", \"family\", \"family\", \"far\", \"fbi\", \"feel\", \"fellow\", \"figure\", \"final\", \"find\", \"find\", \"find\", \"find\", \"find\", \"find_way\", \"follow\", \"force\", \"force\", \"force\", \"fortune\", \"fortune\", \"friend\", \"friend\", \"friend\", \"future\", \"game\", \"game\", \"game\", \"game\", \"gather\", \"gather\", \"get\", \"ghost\", \"go\", \"go\", \"go\", \"go_missing\", \"good\", \"good\", \"good\", \"good_luck\", \"government\", \"grandfather\", \"great\", \"great\", \"great\", \"great\", \"group\", \"group\", \"group\", \"hand\", \"hand\", \"happen\", \"happen\", \"happen\", \"hear\", \"heist\", \"help\", \"help\", \"help\", \"hero\", \"hide\", \"hide\", \"hide\", \"hide\", \"hire\", \"home\", \"home\", \"hope\", \"hope\", \"hour\", \"hour\", \"hour\", \"hour\", \"house\", \"house\", \"house\", \"house\", \"humanity\", \"investigate\", \"investigation\", \"kill\", \"killer\", \"kingdom\", \"know\", \"know\", \"know\", \"know\", \"lab\", \"lab\", \"laboratory\", \"large\", \"late\", \"late\", \"late\", \"late\", \"late\", \"lead\", \"lead\", \"lead\", \"leader\", \"leave\", \"leave\", \"leave\", \"lie\", \"life\", \"life\", \"life\", \"light\", \"live\", \"live\", \"lock\", \"lock\", \"lock\", \"look\", \"look\", \"look\", \"luck\", \"man\", \"manage\", \"manage\", \"mansion\", \"meet\", \"member\", \"minute\", \"minute\", \"minute\", \"minute\", \"miss\", \"miss\", \"miss\", \"miss\", \"missing\", \"mission\", \"mission\", \"mission\", \"month\", \"mystery\", \"mystery\", \"need\", \"need\", \"need\", \"need\", \"new\", \"new\", \"new\", \"new\", \"night\", \"night\", \"nitr0\", \"nitr0\", \"nitr0\", \"old\", \"old\", \"open\", \"order\", \"order\", \"order\", \"organization\", \"oxygen\", \"party\", \"pass\", \"pass\", \"past\", \"people\", \"piece\", \"pirate\", \"pirate\", \"place\", \"place\", \"power\", \"power\", \"power\", \"power\", \"powerful\", \"prison\", \"professor\", \"protect\", \"puzzle\", \"quickly\", \"ready\", \"reality\", \"receive\", \"recent\", \"recently\", \"report\", \"research\", \"retrieve\", \"riddle\", \"ritual\", \"rogue\", \"room\", \"room\", \"room\", \"room\", \"run\", \"run\", \"run\", \"safety\", \"santa\", \"save\", \"save\", \"save\", \"say\", \"school\", \"scientist\", \"search\", \"search\", \"search\", \"search\", \"secret\", \"secret\", \"secret\", \"secret\", \"see\", \"send\", \"send\", \"series\", \"series\", \"set\", \"set\", \"set\", \"ship\", \"ship\", \"ship\", \"ship\", \"shut\", \"single\", \"skill\", \"sneak\", \"society\", \"solve\", \"solve_mystery\", \"solve_puzzle\", \"soon\", \"space\", \"special\", \"spell\", \"spy\", \"states\", \"station\", \"step\", \"stop\", \"stop\", \"strange\", \"suddenly\", \"take\", \"take\", \"take\", \"take\", \"task\", \"team\", \"team\", \"team\", \"team\", \"team\", \"tell\", \"temple\", \"test\", \"test\", \"thing\", \"thing\", \"thing\", \"thing\", \"time\", \"time\", \"time\", \"time\", \"time\", \"time_run\", \"today\", \"trace\", \"track\", \"train\", \"trap\", \"trap\", \"trap\", \"trap\", \"travel\", \"travel\", \"treasure\", \"treasure\", \"treasure\", \"treasure\", \"truth\", \"try\", \"try\", \"try\", \"try\", \"turn\", \"turn\", \"united\", \"unlock\", \"valley\", \"valley\", \"victim\", \"virus\", \"virus\", \"wall\", \"war\", \"way\", \"way\", \"way\", \"week\", \"work\", \"work\", \"work\", \"work\", \"work\", \"world\", \"world\", \"world\", \"world\", \"world\", \"wrong\", \"year\", \"year\", \"year\"]}, \"R\": 30, \"lambda.step\": 0.01, \"plot.opts\": {\"xlab\": \"PC1\", \"ylab\": \"PC2\"}, \"topic.order\": [1, 2, 3, 4, 5]};\n",
       "\n",
       "function LDAvis_load_lib(url, callback){\n",
       "  var s = document.createElement('script');\n",
       "  s.src = url;\n",
       "  s.async = true;\n",
       "  s.onreadystatechange = s.onload = callback;\n",
       "  s.onerror = function(){console.warn(\"failed to load library \" + url);};\n",
       "  document.getElementsByTagName(\"head\")[0].appendChild(s);\n",
       "}\n",
       "\n",
       "if(typeof(LDAvis) !== \"undefined\"){\n",
       "   // already loaded: just create the visualization\n",
       "   !function(LDAvis){\n",
       "       new LDAvis(\"#\" + \"ldavis_el618901402517147342886522278615\", ldavis_el618901402517147342886522278615_data);\n",
       "   }(LDAvis);\n",
       "}else if(typeof define === \"function\" && define.amd){\n",
       "   // require.js is available: use it to load d3/LDAvis\n",
       "   require.config({paths: {d3: \"https://cdnjs.cloudflare.com/ajax/libs/d3/3.5.5/d3.min\"}});\n",
       "   require([\"d3\"], function(d3){\n",
       "      window.d3 = d3;\n",
       "      LDAvis_load_lib(\"https://cdn.rawgit.com/bmabey/pyLDAvis/files/ldavis.v1.0.0.js\", function(){\n",
       "        new LDAvis(\"#\" + \"ldavis_el618901402517147342886522278615\", ldavis_el618901402517147342886522278615_data);\n",
       "      });\n",
       "    });\n",
       "}else{\n",
       "    // require.js not available: dynamically load d3 & LDAvis\n",
       "    LDAvis_load_lib(\"https://cdnjs.cloudflare.com/ajax/libs/d3/3.5.5/d3.min.js\", function(){\n",
       "         LDAvis_load_lib(\"https://cdn.rawgit.com/bmabey/pyLDAvis/files/ldavis.v1.0.0.js\", function(){\n",
       "                 new LDAvis(\"#\" + \"ldavis_el618901402517147342886522278615\", ldavis_el618901402517147342886522278615_data);\n",
       "            })\n",
       "         });\n",
       "}\n",
       "</script>"
      ],
      "text/plain": [
       "PreparedData(topic_coordinates=              x         y  topics  cluster       Freq\n",
       "topic                                                \n",
       "0      0.100424 -0.040579       1        1  21.293180\n",
       "1     -0.305163  0.028747       2        1  17.406469\n",
       "2      0.034795 -0.250683       3        1  20.302341\n",
       "3      0.077540  0.180791       4        1  23.536209\n",
       "4      0.092404  0.081724       5        1  17.461794, topic_info=        Term        Freq       Total Category  logprob  loglift\n",
       "48    escape  225.000000  225.000000  Default  30.0000  30.0000\n",
       "212    solve   81.000000   81.000000  Default  29.0000  29.0000\n",
       "0       find  339.000000  339.000000  Default  28.0000  28.0000\n",
       "370     year   92.000000   92.000000  Default  27.0000  27.0000\n",
       "398     clue   81.000000   81.000000  Default  26.0000  26.0000\n",
       "..       ...         ...         ...      ...      ...      ...\n",
       "0       find   65.742416  339.432129   Topic5  -3.9788   0.1036\n",
       "25      crew   25.571302   44.207863   Topic5  -4.9230   1.1977\n",
       "615    crime   24.133936   62.151566   Topic5  -4.9809   0.7992\n",
       "7       team   25.396414  156.654785   Topic5  -4.9299  -0.0743\n",
       "316  mission   21.474728   74.108688   Topic5  -5.0976   0.5065\n",
       "\n",
       "[291 rows x 6 columns], token_table=      Topic      Freq      Term\n",
       "term                           \n",
       "698       1  0.982752  \\r\\n\\r\\n\n",
       "195       1  0.516246       ...\n",
       "195       2  0.012591       ...\n",
       "195       4  0.314784       ...\n",
       "195       5  0.163688       ...\n",
       "...     ...       ...       ...\n",
       "148       5  0.378142     world\n",
       "738       5  0.950062     wrong\n",
       "370       1  0.280835      year\n",
       "370       2  0.637280      year\n",
       "370       4  0.075610      year\n",
       "\n",
       "[426 rows x 3 columns], R=30, lambda_step=0.01, plot_opts={'xlab': 'PC1', 'ylab': 'PC2'}, topic_order=[1, 2, 3, 4, 5])"
      ]
     },
     "execution_count": 150,
     "metadata": {},
     "output_type": "execute_result"
    }
   ],
   "source": [
    "pyLDAvis.enable_notebook()\n",
    "warnings.filterwarnings(\"ignore\", category = DeprecationWarning) \n",
    "\n",
    "# plot\n",
    "pyLDAvis.gensim.prepare(LdaModel_fit1, corpus, dictionary, sort_topics = False)"
   ]
  },
  {
   "cell_type": "code",
   "execution_count": null,
   "metadata": {},
   "outputs": [],
   "source": []
  }
 ],
 "metadata": {
  "kernelspec": {
   "display_name": "Python 3",
   "language": "python",
   "name": "python3"
  },
  "language_info": {
   "codemirror_mode": {
    "name": "ipython",
    "version": 3
   },
   "file_extension": ".py",
   "mimetype": "text/x-python",
   "name": "python",
   "nbconvert_exporter": "python",
   "pygments_lexer": "ipython3",
   "version": "3.7.7"
  },
  "toc": {
   "base_numbering": 1,
   "nav_menu": {},
   "number_sections": true,
   "sideBar": true,
   "skip_h1_title": false,
   "title_cell": "Table of Contents",
   "title_sidebar": "Contents",
   "toc_cell": false,
   "toc_position": {},
   "toc_section_display": true,
   "toc_window_display": false
  },
  "varInspector": {
   "cols": {
    "lenName": 16,
    "lenType": 16,
    "lenVar": 40
   },
   "kernels_config": {
    "python": {
     "delete_cmd_postfix": "",
     "delete_cmd_prefix": "del ",
     "library": "var_list.py",
     "varRefreshCmd": "print(var_dic_list())"
    },
    "r": {
     "delete_cmd_postfix": ") ",
     "delete_cmd_prefix": "rm(",
     "library": "var_list.r",
     "varRefreshCmd": "cat(var_dic_list()) "
    }
   },
   "types_to_exclude": [
    "module",
    "function",
    "builtin_function_or_method",
    "instance",
    "_Feature"
   ],
   "window_display": false
  }
 },
 "nbformat": 4,
 "nbformat_minor": 4
}
