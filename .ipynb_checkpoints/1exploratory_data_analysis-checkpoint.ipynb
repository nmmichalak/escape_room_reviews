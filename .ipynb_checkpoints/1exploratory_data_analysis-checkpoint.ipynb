{
 "cells": [
  {
   "cell_type": "markdown",
   "metadata": {},
   "source": [
    "# Import libraries"
   ]
  },
  {
   "cell_type": "code",
   "execution_count": 106,
   "metadata": {},
   "outputs": [
    {
     "name": "stderr",
     "output_type": "stream",
     "text": [
      "[nltk_data] Downloading package punkt to\n",
      "[nltk_data]     /Users/nicholasmichalak/nltk_data...\n",
      "[nltk_data]   Package punkt is already up-to-date!\n"
     ]
    },
    {
     "data": {
      "text/plain": [
       "True"
      ]
     },
     "execution_count": 106,
     "metadata": {},
     "output_type": "execute_result"
    }
   ],
   "source": [
    "# uncomment to install libraries\n",
    "# ! pip install numpy pandas matplotlib seaborn nltk spacy regex gensim pyLDAvis\n",
    "# ! python -m spacy download en_core_web_sm\n",
    "\n",
    "import numpy as np\n",
    "import pandas as pd\n",
    "import matplotlib.pyplot as plt\n",
    "import seaborn as sns\n",
    "import nltk\n",
    "import spacy\n",
    "import re\n",
    "from gensim.models import Phrases, LdaModel\n",
    "from gensim.corpora import Dictionary\n",
    "import pyLDAvis.gensim\n",
    "import warnings\n",
    "\n",
    "# english model from spacy that needs explaining ...\n",
    "nlp = spacy.load(\"en_core_web_sm\")\n",
    "\n",
    "# \"punkt\" tokenizer\n",
    "nltk.download(\"punkt\")"
   ]
  },
  {
   "cell_type": "markdown",
   "metadata": {},
   "source": [
    "# Review data"
   ]
  },
  {
   "cell_type": "code",
   "execution_count": 86,
   "metadata": {},
   "outputs": [
    {
     "data": {
      "text/html": [
       "<div>\n",
       "<style scoped>\n",
       "    .dataframe tbody tr th:only-of-type {\n",
       "        vertical-align: middle;\n",
       "    }\n",
       "\n",
       "    .dataframe tbody tr th {\n",
       "        vertical-align: top;\n",
       "    }\n",
       "\n",
       "    .dataframe thead th {\n",
       "        text-align: right;\n",
       "    }\n",
       "</style>\n",
       "<table border=\"1\" class=\"dataframe\">\n",
       "  <thead>\n",
       "    <tr style=\"text-align: right;\">\n",
       "      <th></th>\n",
       "      <th>state</th>\n",
       "      <th>city_href</th>\n",
       "      <th>room_href</th>\n",
       "      <th>review_number</th>\n",
       "      <th>review</th>\n",
       "      <th>room_title</th>\n",
       "      <th>room_description</th>\n",
       "      <th>room_address</th>\n",
       "    </tr>\n",
       "  </thead>\n",
       "  <tbody>\n",
       "    <tr>\n",
       "      <th>495</th>\n",
       "      <td>arizona</td>\n",
       "      <td>/phoenix</td>\n",
       "      <td>/phoenix/quests/escape-house-mesa-flood-the-city</td>\n",
       "      <td>2</td>\n",
       "      <td>Thank you Ryan for making our experience a gre...</td>\n",
       "      <td>Escape room \"Flood The City\" by Escape House M...</td>\n",
       "      <td>Description:Terrorist calling himself Marcin i...</td>\n",
       "      <td>3460 E Southern Ave #110, Mesa, AZ 85204 (Show...</td>\n",
       "    </tr>\n",
       "    <tr>\n",
       "      <th>427</th>\n",
       "      <td>arizona</td>\n",
       "      <td>/phoenix</td>\n",
       "      <td>/phoenix/quests/epic-escape-game-rogue-agent</td>\n",
       "      <td>0</td>\n",
       "      <td>It was a lot of fun!!! There were definitely s...</td>\n",
       "      <td>Escape room \"Rogue Agent\" by Epic Escape Game ...</td>\n",
       "      <td>Description:The President and other world lead...</td>\n",
       "      <td>106 N. Central Avenue, Phoenix, AZ 85004 (Show...</td>\n",
       "    </tr>\n",
       "    <tr>\n",
       "      <th>19</th>\n",
       "      <td>alabama</td>\n",
       "      <td>/auburn</td>\n",
       "      <td>/auburn/quests/auburn-escape-zones-black-beard...</td>\n",
       "      <td>3</td>\n",
       "      <td>This was such a fun surprise for my husband's ...</td>\n",
       "      <td>Escape room \"Black Beard's Brig\" by Auburn Esc...</td>\n",
       "      <td>Description:Ahoy Matey! Your crew has been cap...</td>\n",
       "      <td>1234 Commerce Dr Auburn, AL 36830 (Show on map)</td>\n",
       "    </tr>\n",
       "    <tr>\n",
       "      <th>86</th>\n",
       "      <td>alabama</td>\n",
       "      <td>/gadsden</td>\n",
       "      <td>/gadsden/quests/beat60-the-darkness</td>\n",
       "      <td>4</td>\n",
       "      <td>We had a great time \"beating 60\" in the serial...</td>\n",
       "      <td>Escape room \"The Darkness\" by beat60 in Gadsden</td>\n",
       "      <td>Description:You and your team awake in a dimly...</td>\n",
       "      <td>227 Broad Street Gadsden, AL 35901 (Show on map)</td>\n",
       "    </tr>\n",
       "    <tr>\n",
       "      <th>274</th>\n",
       "      <td>arizona</td>\n",
       "      <td>/phoenix</td>\n",
       "      <td>/phoenix/quests/escape-games-az-blaines-basement</td>\n",
       "      <td>1</td>\n",
       "      <td>I had a BLAST! For my first escape room - Blai...</td>\n",
       "      <td>Escape room \"Blaine's Basement\" by Escape Game...</td>\n",
       "      <td>Description:The FBI was able to apprehend a su...</td>\n",
       "      <td>12 N. Center Street, Suite 200 Mesa, AZ 85201 ...</td>\n",
       "    </tr>\n",
       "  </tbody>\n",
       "</table>\n",
       "</div>"
      ],
      "text/plain": [
       "       state city_href                                          room_href  \\\n",
       "495  arizona  /phoenix   /phoenix/quests/escape-house-mesa-flood-the-city   \n",
       "427  arizona  /phoenix       /phoenix/quests/epic-escape-game-rogue-agent   \n",
       "19   alabama   /auburn  /auburn/quests/auburn-escape-zones-black-beard...   \n",
       "86   alabama  /gadsden                /gadsden/quests/beat60-the-darkness   \n",
       "274  arizona  /phoenix   /phoenix/quests/escape-games-az-blaines-basement   \n",
       "\n",
       "     review_number                                             review  \\\n",
       "495              2  Thank you Ryan for making our experience a gre...   \n",
       "427              0  It was a lot of fun!!! There were definitely s...   \n",
       "19               3  This was such a fun surprise for my husband's ...   \n",
       "86               4  We had a great time \"beating 60\" in the serial...   \n",
       "274              1  I had a BLAST! For my first escape room - Blai...   \n",
       "\n",
       "                                            room_title  \\\n",
       "495  Escape room \"Flood The City\" by Escape House M...   \n",
       "427  Escape room \"Rogue Agent\" by Epic Escape Game ...   \n",
       "19   Escape room \"Black Beard's Brig\" by Auburn Esc...   \n",
       "86     Escape room \"The Darkness\" by beat60 in Gadsden   \n",
       "274  Escape room \"Blaine's Basement\" by Escape Game...   \n",
       "\n",
       "                                      room_description  \\\n",
       "495  Description:Terrorist calling himself Marcin i...   \n",
       "427  Description:The President and other world lead...   \n",
       "19   Description:Ahoy Matey! Your crew has been cap...   \n",
       "86   Description:You and your team awake in a dimly...   \n",
       "274  Description:The FBI was able to apprehend a su...   \n",
       "\n",
       "                                          room_address  \n",
       "495  3460 E Southern Ave #110, Mesa, AZ 85204 (Show...  \n",
       "427  106 N. Central Avenue, Phoenix, AZ 85004 (Show...  \n",
       "19     1234 Commerce Dr Auburn, AL 36830 (Show on map)  \n",
       "86    227 Broad Street Gadsden, AL 35901 (Show on map)  \n",
       "274  12 N. Center Street, Suite 200 Mesa, AZ 85201 ...  "
      ]
     },
     "execution_count": 86,
     "metadata": {},
     "output_type": "execute_result"
    }
   ],
   "source": [
    "escape_room_reviews = pd.read_csv(\"data/escape_room_reviews.csv\", index_col = 0)\n",
    "\n",
    "# See it (random 5 rows)\n",
    "escape_room_reviews.sample(n = 5, replace = False)"
   ]
  },
  {
   "cell_type": "markdown",
   "metadata": {},
   "source": [
    "# Review processing"
   ]
  },
  {
   "cell_type": "markdown",
   "metadata": {},
   "source": [
    "## Extract reviews"
   ]
  },
  {
   "cell_type": "code",
   "execution_count": 87,
   "metadata": {},
   "outputs": [],
   "source": [
    "reviews = escape_room_reviews[\"review\"].tolist()"
   ]
  },
  {
   "cell_type": "markdown",
   "metadata": {},
   "source": [
    "## Lower case text"
   ]
  },
  {
   "cell_type": "code",
   "execution_count": 88,
   "metadata": {},
   "outputs": [],
   "source": [
    "reviews_lower = [text.lower() for text in reviews]"
   ]
  },
  {
   "cell_type": "markdown",
   "metadata": {},
   "source": [
    "## Sentences"
   ]
  },
  {
   "cell_type": "code",
   "execution_count": 89,
   "metadata": {},
   "outputs": [],
   "source": [
    "sentences = [nltk.tokenize.sent_tokenize(text) for text in reviews_lower]\n",
    "\n",
    "# unpack sentences\n",
    "sentences_unlist = [sentence for sub_sentences in sentences for sentence in sub_sentences]"
   ]
  },
  {
   "cell_type": "markdown",
   "metadata": {},
   "source": [
    "## spacy docs/generator"
   ]
  },
  {
   "cell_type": "code",
   "execution_count": 93,
   "metadata": {},
   "outputs": [],
   "source": [
    "spacy_docs = list(nlp.pipe(sentences_unlist))"
   ]
  },
  {
   "cell_type": "markdown",
   "metadata": {},
   "source": [
    "## Remove stop words and words shorter than 2 characters"
   ]
  },
  {
   "cell_type": "code",
   "execution_count": 101,
   "metadata": {},
   "outputs": [
    {
     "name": "stdout",
     "output_type": "stream",
     "text": [
      "['escape', 'room', 'challenge', 'friend', 'join', 'previous', 'experience']\n",
      "\n",
      "\n",
      "['blast', 'control', 'master', 'tony', 'awesome']\n",
      "\n",
      "\n",
      "['explain']\n",
      "\n",
      "\n",
      "['game', 'master', 'janey', 'fun', 'professional']\n",
      "\n",
      "\n",
      "['staff', 'try', 'enjoyable']\n",
      "\n",
      "\n"
     ]
    }
   ],
   "source": [
    "docs = [[text.lemma_ for text in doc if len(text.orth_) > 2 and not text.is_stop] for doc in spacy_docs]\n",
    "\n",
    "# See some\n",
    "for i in np.random.randint(low = 0, high = len(docs), size = 5):\n",
    "    print(docs[i])\n",
    "    print(\"\\n\")"
   ]
  },
  {
   "cell_type": "code",
   "execution_count": null,
   "metadata": {},
   "outputs": [],
   "source": []
  },
  {
   "cell_type": "code",
   "execution_count": null,
   "metadata": {},
   "outputs": [],
   "source": []
  }
 ],
 "metadata": {
  "kernelspec": {
   "display_name": "Python 3",
   "language": "python",
   "name": "python3"
  },
  "language_info": {
   "codemirror_mode": {
    "name": "ipython",
    "version": 3
   },
   "file_extension": ".py",
   "mimetype": "text/x-python",
   "name": "python",
   "nbconvert_exporter": "python",
   "pygments_lexer": "ipython3",
   "version": "3.7.7"
  },
  "toc": {
   "base_numbering": 1,
   "nav_menu": {},
   "number_sections": true,
   "sideBar": true,
   "skip_h1_title": false,
   "title_cell": "Table of Contents",
   "title_sidebar": "Contents",
   "toc_cell": false,
   "toc_position": {},
   "toc_section_display": true,
   "toc_window_display": false
  },
  "varInspector": {
   "cols": {
    "lenName": 16,
    "lenType": 16,
    "lenVar": 40
   },
   "kernels_config": {
    "python": {
     "delete_cmd_postfix": "",
     "delete_cmd_prefix": "del ",
     "library": "var_list.py",
     "varRefreshCmd": "print(var_dic_list())"
    },
    "r": {
     "delete_cmd_postfix": ") ",
     "delete_cmd_prefix": "rm(",
     "library": "var_list.r",
     "varRefreshCmd": "cat(var_dic_list()) "
    }
   },
   "types_to_exclude": [
    "module",
    "function",
    "builtin_function_or_method",
    "instance",
    "_Feature"
   ],
   "window_display": false
  }
 },
 "nbformat": 4,
 "nbformat_minor": 4
}
